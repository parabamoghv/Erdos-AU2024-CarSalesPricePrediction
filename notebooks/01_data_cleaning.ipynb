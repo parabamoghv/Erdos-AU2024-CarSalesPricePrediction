{
 "cells": [
  {
   "cell_type": "markdown",
   "metadata": {},
   "source": [
    "Goals: \n",
    "- Deal with null data points   \n",
    "- Clean the data (getting rid of the units)\n",
    "- Data split (train / test)\n",
    "- Save the clean data in data/processed "
   ]
  },
  {
   "cell_type": "code",
   "execution_count": 505,
   "metadata": {},
   "outputs": [],
   "source": [
    "import pandas as pd"
   ]
  },
  {
   "cell_type": "code",
   "execution_count": 506,
   "metadata": {},
   "outputs": [
    {
     "data": {
      "text/plain": [
       "name             8128\n",
       "year             8128\n",
       "selling_price    8128\n",
       "km_driven        8128\n",
       "fuel             8128\n",
       "seller_type      8128\n",
       "transmission     8128\n",
       "owner            8128\n",
       "mileage          7907\n",
       "engine           7907\n",
       "max_power        7913\n",
       "torque           7906\n",
       "seats            7907\n",
       "dtype: int64"
      ]
     },
     "execution_count": 506,
     "metadata": {},
     "output_type": "execute_result"
    }
   ],
   "source": [
    "file_loc = \"../data/raw/Car details v3.csv\"\n",
    "df = pd.read_csv(file_loc)\n",
    "df.notna().sum()"
   ]
  },
  {
   "cell_type": "code",
   "execution_count": 507,
   "metadata": {},
   "outputs": [
    {
     "data": {
      "text/plain": [
       "2.731299212598425"
      ]
     },
     "execution_count": 507,
     "metadata": {},
     "output_type": "execute_result"
    }
   ],
   "source": [
    "8128-7906 #=222\n",
    "(8128-7906)/8128*100"
   ]
  },
  {
   "cell_type": "markdown",
   "metadata": {},
   "source": [
    "Torque has the least number of Non-none values. If we were to do dropNA, we would lose at least $8128-7906 = 222$ values. This will correspond to $222/8128*100 = 2.73\\%$ data loss.  "
   ]
  },
  {
   "cell_type": "code",
   "execution_count": 508,
   "metadata": {},
   "outputs": [
    {
     "name": "stdout",
     "output_type": "stream",
     "text": [
      "<class 'pandas.core.frame.DataFrame'>\n",
      "Index: 7906 entries, 0 to 8127\n",
      "Data columns (total 13 columns):\n",
      " #   Column         Non-Null Count  Dtype  \n",
      "---  ------         --------------  -----  \n",
      " 0   name           7906 non-null   object \n",
      " 1   year           7906 non-null   int64  \n",
      " 2   selling_price  7906 non-null   int64  \n",
      " 3   km_driven      7906 non-null   int64  \n",
      " 4   fuel           7906 non-null   object \n",
      " 5   seller_type    7906 non-null   object \n",
      " 6   transmission   7906 non-null   object \n",
      " 7   owner          7906 non-null   object \n",
      " 8   mileage        7906 non-null   object \n",
      " 9   engine         7906 non-null   object \n",
      " 10  max_power      7906 non-null   object \n",
      " 11  torque         7906 non-null   object \n",
      " 12  seats          7906 non-null   float64\n",
      "dtypes: float64(1), int64(3), object(9)\n",
      "memory usage: 864.7+ KB\n"
     ]
    }
   ],
   "source": [
    "df = df.dropna()\n",
    "#df.notna().sum()\n",
    "df.info()"
   ]
  },
  {
   "cell_type": "markdown",
   "metadata": {},
   "source": [
    "In the dataframe, NA values are overlapping. That is, many rows have NA column entries. We will drop those rows."
   ]
  },
  {
   "cell_type": "code",
   "execution_count": 509,
   "metadata": {},
   "outputs": [
    {
     "data": {
      "text/html": [
       "<div>\n",
       "<style scoped>\n",
       "    .dataframe tbody tr th:only-of-type {\n",
       "        vertical-align: middle;\n",
       "    }\n",
       "\n",
       "    .dataframe tbody tr th {\n",
       "        vertical-align: top;\n",
       "    }\n",
       "\n",
       "    .dataframe thead th {\n",
       "        text-align: right;\n",
       "    }\n",
       "</style>\n",
       "<table border=\"1\" class=\"dataframe\">\n",
       "  <thead>\n",
       "    <tr style=\"text-align: right;\">\n",
       "      <th></th>\n",
       "      <th>name</th>\n",
       "      <th>year</th>\n",
       "      <th>selling_price</th>\n",
       "      <th>km_driven</th>\n",
       "      <th>fuel</th>\n",
       "      <th>seller_type</th>\n",
       "      <th>transmission</th>\n",
       "      <th>owner</th>\n",
       "      <th>mileage</th>\n",
       "      <th>engine</th>\n",
       "      <th>max_power</th>\n",
       "      <th>torque</th>\n",
       "      <th>seats</th>\n",
       "    </tr>\n",
       "  </thead>\n",
       "  <tbody>\n",
       "    <tr>\n",
       "      <th>5231</th>\n",
       "      <td>Toyota Corolla AE</td>\n",
       "      <td>2004</td>\n",
       "      <td>135000</td>\n",
       "      <td>90000</td>\n",
       "      <td>Petrol</td>\n",
       "      <td>Individual</td>\n",
       "      <td>Manual</td>\n",
       "      <td>Second Owner</td>\n",
       "      <td>13.4 kmpl</td>\n",
       "      <td>1794 CC</td>\n",
       "      <td>125 bhp</td>\n",
       "      <td>16.1@ 4,200(kgm@ rpm)</td>\n",
       "      <td>5.0</td>\n",
       "    </tr>\n",
       "    <tr>\n",
       "      <th>2428</th>\n",
       "      <td>Ford Fiesta Diesel Style</td>\n",
       "      <td>2012</td>\n",
       "      <td>280000</td>\n",
       "      <td>60000</td>\n",
       "      <td>Diesel</td>\n",
       "      <td>Individual</td>\n",
       "      <td>Manual</td>\n",
       "      <td>Second Owner</td>\n",
       "      <td>23.5 kmpl</td>\n",
       "      <td>1498 CC</td>\n",
       "      <td>88.7 bhp</td>\n",
       "      <td>204Nm@ 2000-2750rpm</td>\n",
       "      <td>5.0</td>\n",
       "    </tr>\n",
       "    <tr>\n",
       "      <th>7235</th>\n",
       "      <td>Maruti Wagon R AMT VXI</td>\n",
       "      <td>2017</td>\n",
       "      <td>430000</td>\n",
       "      <td>20000</td>\n",
       "      <td>Petrol</td>\n",
       "      <td>Individual</td>\n",
       "      <td>Automatic</td>\n",
       "      <td>First Owner</td>\n",
       "      <td>20.51 kmpl</td>\n",
       "      <td>998 CC</td>\n",
       "      <td>67 bhp</td>\n",
       "      <td>90Nm@ 3500rpm</td>\n",
       "      <td>5.0</td>\n",
       "    </tr>\n",
       "    <tr>\n",
       "      <th>700</th>\n",
       "      <td>Renault KWID 1.0 RXT Optional</td>\n",
       "      <td>2016</td>\n",
       "      <td>300000</td>\n",
       "      <td>50000</td>\n",
       "      <td>Petrol</td>\n",
       "      <td>Individual</td>\n",
       "      <td>Manual</td>\n",
       "      <td>First Owner</td>\n",
       "      <td>23.01 kmpl</td>\n",
       "      <td>999 CC</td>\n",
       "      <td>67 bhp</td>\n",
       "      <td>91Nm@ 4250rpm</td>\n",
       "      <td>5.0</td>\n",
       "    </tr>\n",
       "    <tr>\n",
       "      <th>50</th>\n",
       "      <td>Honda Amaze S Diesel</td>\n",
       "      <td>2015</td>\n",
       "      <td>425000</td>\n",
       "      <td>49800</td>\n",
       "      <td>Diesel</td>\n",
       "      <td>Dealer</td>\n",
       "      <td>Manual</td>\n",
       "      <td>First Owner</td>\n",
       "      <td>24.7 kmpl</td>\n",
       "      <td>1498 CC</td>\n",
       "      <td>98.63 bhp</td>\n",
       "      <td>200Nm@ 1750rpm</td>\n",
       "      <td>5.0</td>\n",
       "    </tr>\n",
       "  </tbody>\n",
       "</table>\n",
       "</div>"
      ],
      "text/plain": [
       "                               name  year  selling_price  km_driven    fuel  \\\n",
       "5231              Toyota Corolla AE  2004         135000      90000  Petrol   \n",
       "2428       Ford Fiesta Diesel Style  2012         280000      60000  Diesel   \n",
       "7235         Maruti Wagon R AMT VXI  2017         430000      20000  Petrol   \n",
       "700   Renault KWID 1.0 RXT Optional  2016         300000      50000  Petrol   \n",
       "50             Honda Amaze S Diesel  2015         425000      49800  Diesel   \n",
       "\n",
       "     seller_type transmission         owner     mileage   engine  max_power  \\\n",
       "5231  Individual       Manual  Second Owner   13.4 kmpl  1794 CC    125 bhp   \n",
       "2428  Individual       Manual  Second Owner   23.5 kmpl  1498 CC   88.7 bhp   \n",
       "7235  Individual    Automatic   First Owner  20.51 kmpl   998 CC     67 bhp   \n",
       "700   Individual       Manual   First Owner  23.01 kmpl   999 CC     67 bhp   \n",
       "50        Dealer       Manual   First Owner   24.7 kmpl  1498 CC  98.63 bhp   \n",
       "\n",
       "                     torque  seats  \n",
       "5231  16.1@ 4,200(kgm@ rpm)    5.0  \n",
       "2428    204Nm@ 2000-2750rpm    5.0  \n",
       "7235          90Nm@ 3500rpm    5.0  \n",
       "700           91Nm@ 4250rpm    5.0  \n",
       "50           200Nm@ 1750rpm    5.0  "
      ]
     },
     "execution_count": 509,
     "metadata": {},
     "output_type": "execute_result"
    }
   ],
   "source": [
    "df.sample(5)"
   ]
  },
  {
   "cell_type": "markdown",
   "metadata": {},
   "source": [
    "The columns \"selling_price\", \"km_driven\", \"year\", and \"seats\" have float values. Therefore, no need to change those. The columns \"mileage\", \"engine\", and \"max_power\" have units. We may need to do unit conversion and coversion to float values. The \"torque\" column is weird, need to pay special attention. The columns \"fuel\", \"seller_type\", \"transmission\", and \"owner\" are categorical features."
   ]
  },
  {
   "cell_type": "markdown",
   "metadata": {},
   "source": [
    "First, we will work on the \"engine\" column"
   ]
  },
  {
   "cell_type": "code",
   "execution_count": 510,
   "metadata": {},
   "outputs": [
    {
     "data": {
      "text/plain": [
       "array(['CC'], dtype=object)"
      ]
     },
     "execution_count": 510,
     "metadata": {},
     "output_type": "execute_result"
    }
   ],
   "source": [
    "df[\"engine\"].apply(lambda string : string.split(\" \")[1]).unique()"
   ]
  },
  {
   "cell_type": "markdown",
   "metadata": {},
   "source": [
    "The \"engine\" column has only \"CC\" (cubic centimeters) unit. We only need to grab the corresponding value."
   ]
  },
  {
   "cell_type": "code",
   "execution_count": 511,
   "metadata": {},
   "outputs": [
    {
     "name": "stdout",
     "output_type": "stream",
     "text": [
      "<class 'pandas.core.frame.DataFrame'>\n",
      "Index: 7906 entries, 0 to 8127\n",
      "Data columns (total 14 columns):\n",
      " #   Column           Non-Null Count  Dtype  \n",
      "---  ------           --------------  -----  \n",
      " 0   name             7906 non-null   object \n",
      " 1   year             7906 non-null   int64  \n",
      " 2   selling_price    7906 non-null   int64  \n",
      " 3   km_driven        7906 non-null   int64  \n",
      " 4   fuel             7906 non-null   object \n",
      " 5   seller_type      7906 non-null   object \n",
      " 6   transmission     7906 non-null   object \n",
      " 7   owner            7906 non-null   object \n",
      " 8   mileage          7906 non-null   object \n",
      " 9   engine           7906 non-null   object \n",
      " 10  max_power        7906 non-null   object \n",
      " 11  torque           7906 non-null   object \n",
      " 12  seats            7906 non-null   float64\n",
      " 13  engine_value_cc  7906 non-null   float64\n",
      "dtypes: float64(2), int64(3), object(9)\n",
      "memory usage: 926.5+ KB\n"
     ]
    }
   ],
   "source": [
    "df[\"engine_value_cc\"] = df[\"engine\"].apply(lambda string : float(string.split(\" \")[0]))\n",
    "df.info()"
   ]
  },
  {
   "cell_type": "markdown",
   "metadata": {},
   "source": [
    "Do the same for max power."
   ]
  },
  {
   "cell_type": "code",
   "execution_count": 512,
   "metadata": {},
   "outputs": [
    {
     "data": {
      "text/plain": [
       "array(['bhp'], dtype=object)"
      ]
     },
     "execution_count": 512,
     "metadata": {},
     "output_type": "execute_result"
    }
   ],
   "source": [
    "df[\"max_power\"].apply(lambda string: string.split(\" \")[1]).unique()"
   ]
  },
  {
   "cell_type": "code",
   "execution_count": 513,
   "metadata": {},
   "outputs": [
    {
     "name": "stdout",
     "output_type": "stream",
     "text": [
      "<class 'pandas.core.frame.DataFrame'>\n",
      "Index: 7906 entries, 0 to 8127\n",
      "Data columns (total 15 columns):\n",
      " #   Column           Non-Null Count  Dtype  \n",
      "---  ------           --------------  -----  \n",
      " 0   name             7906 non-null   object \n",
      " 1   year             7906 non-null   int64  \n",
      " 2   selling_price    7906 non-null   int64  \n",
      " 3   km_driven        7906 non-null   int64  \n",
      " 4   fuel             7906 non-null   object \n",
      " 5   seller_type      7906 non-null   object \n",
      " 6   transmission     7906 non-null   object \n",
      " 7   owner            7906 non-null   object \n",
      " 8   mileage          7906 non-null   object \n",
      " 9   engine           7906 non-null   object \n",
      " 10  max_power        7906 non-null   object \n",
      " 11  torque           7906 non-null   object \n",
      " 12  seats            7906 non-null   float64\n",
      " 13  engine_value_cc  7906 non-null   float64\n",
      " 14  max_power_bph    7906 non-null   float64\n",
      "dtypes: float64(3), int64(3), object(9)\n",
      "memory usage: 988.2+ KB\n"
     ]
    }
   ],
   "source": [
    "df[\"max_power_bph\"] = df[\"max_power\"].apply(lambda string: float(string.split(\" \")[0]))\n",
    "df.info()"
   ]
  },
  {
   "cell_type": "markdown",
   "metadata": {},
   "source": [
    "Now, working on the \"mileage\" column."
   ]
  },
  {
   "cell_type": "code",
   "execution_count": 514,
   "metadata": {},
   "outputs": [
    {
     "data": {
      "text/plain": [
       "array(['kmpl', 'km/kg'], dtype=object)"
      ]
     },
     "execution_count": 514,
     "metadata": {},
     "output_type": "execute_result"
    }
   ],
   "source": [
    "df[\"mileage\"].apply(lambda string: string.split(\" \")[1]).unique()"
   ]
  },
  {
   "cell_type": "markdown",
   "metadata": {},
   "source": [
    "We want to convert to a common unit. We will convert km/kg to kmpl. We need to check which fuel uses kmpl and which used km/kg. Then, we will multiply by density of the fluid. $$\\frac{km}{L} = \\frac{km}{kg} * \\frac{kg}{L}. $$"
   ]
  },
  {
   "cell_type": "code",
   "execution_count": 515,
   "metadata": {},
   "outputs": [
    {
     "name": "stdout",
     "output_type": "stream",
     "text": [
      "Diesel              ['kmpl']\n",
      "Petrol              ['kmpl']\n",
      "LPG                 ['km/kg']\n",
      "CNG                 ['km/kg']\n"
     ]
    }
   ],
   "source": [
    "fuel_types = df[\"fuel\"].unique() #['Diesel' 'Petrol' 'LPG' 'CNG']\n",
    "\n",
    "for entry in fuel_types:\n",
    "    fuel_units = df[df[\"fuel\"] == entry][\"mileage\"].apply(lambda string : string.split(\" \")[1]).unique()\n",
    "    print(f\"{entry:<20}{fuel_units}\")"
   ]
  },
  {
   "cell_type": "markdown",
   "metadata": {},
   "source": [
    "We need to find the density of LPG and CNG."
   ]
  },
  {
   "cell_type": "code",
   "execution_count": 516,
   "metadata": {},
   "outputs": [],
   "source": [
    "density_LPG = 0.4*1.96 + 0.6 * 1.724 # Kg/L from https://www.rippleinfra.com/lpg.html  Taking 4:6 ratio of propane : butane \n",
    "\n",
    "density_CNG = 200/1000 # check both values. 200 is kg/m^3"
   ]
  },
  {
   "cell_type": "code",
   "execution_count": 517,
   "metadata": {},
   "outputs": [
    {
     "data": {
      "text/html": [
       "<div>\n",
       "<style scoped>\n",
       "    .dataframe tbody tr th:only-of-type {\n",
       "        vertical-align: middle;\n",
       "    }\n",
       "\n",
       "    .dataframe tbody tr th {\n",
       "        vertical-align: top;\n",
       "    }\n",
       "\n",
       "    .dataframe thead th {\n",
       "        text-align: right;\n",
       "    }\n",
       "</style>\n",
       "<table border=\"1\" class=\"dataframe\">\n",
       "  <thead>\n",
       "    <tr style=\"text-align: right;\">\n",
       "      <th></th>\n",
       "      <th>name</th>\n",
       "      <th>year</th>\n",
       "      <th>selling_price</th>\n",
       "      <th>km_driven</th>\n",
       "      <th>fuel</th>\n",
       "      <th>seller_type</th>\n",
       "      <th>transmission</th>\n",
       "      <th>owner</th>\n",
       "      <th>mileage</th>\n",
       "      <th>engine</th>\n",
       "      <th>max_power</th>\n",
       "      <th>torque</th>\n",
       "      <th>seats</th>\n",
       "      <th>engine_value_cc</th>\n",
       "      <th>max_power_bph</th>\n",
       "      <th>fuel_Diesel</th>\n",
       "      <th>fuel_Petrol</th>\n",
       "      <th>fuel_LPG</th>\n",
       "      <th>fuel_CNG</th>\n",
       "    </tr>\n",
       "  </thead>\n",
       "  <tbody>\n",
       "    <tr>\n",
       "      <th>7412</th>\n",
       "      <td>Maruti 800 AC</td>\n",
       "      <td>2012</td>\n",
       "      <td>100000</td>\n",
       "      <td>30000</td>\n",
       "      <td>Petrol</td>\n",
       "      <td>Individual</td>\n",
       "      <td>Manual</td>\n",
       "      <td>First Owner</td>\n",
       "      <td>16.1 kmpl</td>\n",
       "      <td>796 CC</td>\n",
       "      <td>37 bhp</td>\n",
       "      <td>59Nm@ 2500rpm</td>\n",
       "      <td>4.0</td>\n",
       "      <td>796.0</td>\n",
       "      <td>37.0</td>\n",
       "      <td>0</td>\n",
       "      <td>1</td>\n",
       "      <td>0</td>\n",
       "      <td>0</td>\n",
       "    </tr>\n",
       "    <tr>\n",
       "      <th>5152</th>\n",
       "      <td>Audi Q7 3.0 TDI Quattro</td>\n",
       "      <td>2009</td>\n",
       "      <td>1025000</td>\n",
       "      <td>120000</td>\n",
       "      <td>Diesel</td>\n",
       "      <td>Individual</td>\n",
       "      <td>Automatic</td>\n",
       "      <td>Third Owner</td>\n",
       "      <td>12.07 kmpl</td>\n",
       "      <td>2967 CC</td>\n",
       "      <td>241.4 bhp</td>\n",
       "      <td>550Nm@ 1750-2750rpm</td>\n",
       "      <td>7.0</td>\n",
       "      <td>2967.0</td>\n",
       "      <td>241.4</td>\n",
       "      <td>1</td>\n",
       "      <td>0</td>\n",
       "      <td>0</td>\n",
       "      <td>0</td>\n",
       "    </tr>\n",
       "    <tr>\n",
       "      <th>5756</th>\n",
       "      <td>Maruti Ertiga ZDI Plus</td>\n",
       "      <td>2019</td>\n",
       "      <td>1200000</td>\n",
       "      <td>14000</td>\n",
       "      <td>Diesel</td>\n",
       "      <td>Individual</td>\n",
       "      <td>Manual</td>\n",
       "      <td>First Owner</td>\n",
       "      <td>25.47 kmpl</td>\n",
       "      <td>1248 CC</td>\n",
       "      <td>88.50 bhp</td>\n",
       "      <td>200Nm@ 1750rpm</td>\n",
       "      <td>7.0</td>\n",
       "      <td>1248.0</td>\n",
       "      <td>88.5</td>\n",
       "      <td>1</td>\n",
       "      <td>0</td>\n",
       "      <td>0</td>\n",
       "      <td>0</td>\n",
       "    </tr>\n",
       "    <tr>\n",
       "      <th>915</th>\n",
       "      <td>Maruti Eeco Smiles 7 Seater Standard</td>\n",
       "      <td>2013</td>\n",
       "      <td>204999</td>\n",
       "      <td>100000</td>\n",
       "      <td>Petrol</td>\n",
       "      <td>Individual</td>\n",
       "      <td>Manual</td>\n",
       "      <td>Third Owner</td>\n",
       "      <td>15.1 kmpl</td>\n",
       "      <td>1196 CC</td>\n",
       "      <td>73 bhp</td>\n",
       "      <td>101Nm@ 3000rpm</td>\n",
       "      <td>7.0</td>\n",
       "      <td>1196.0</td>\n",
       "      <td>73.0</td>\n",
       "      <td>0</td>\n",
       "      <td>1</td>\n",
       "      <td>0</td>\n",
       "      <td>0</td>\n",
       "    </tr>\n",
       "    <tr>\n",
       "      <th>3946</th>\n",
       "      <td>Nissan Micra Diesel XL Optional</td>\n",
       "      <td>2013</td>\n",
       "      <td>400000</td>\n",
       "      <td>83000</td>\n",
       "      <td>Diesel</td>\n",
       "      <td>Individual</td>\n",
       "      <td>Manual</td>\n",
       "      <td>First Owner</td>\n",
       "      <td>23.08 kmpl</td>\n",
       "      <td>1461 CC</td>\n",
       "      <td>63.1 bhp</td>\n",
       "      <td>160Nm@ 2000rpm</td>\n",
       "      <td>5.0</td>\n",
       "      <td>1461.0</td>\n",
       "      <td>63.1</td>\n",
       "      <td>1</td>\n",
       "      <td>0</td>\n",
       "      <td>0</td>\n",
       "      <td>0</td>\n",
       "    </tr>\n",
       "  </tbody>\n",
       "</table>\n",
       "</div>"
      ],
      "text/plain": [
       "                                      name  year  selling_price  km_driven  \\\n",
       "7412                         Maruti 800 AC  2012         100000      30000   \n",
       "5152               Audi Q7 3.0 TDI Quattro  2009        1025000     120000   \n",
       "5756                Maruti Ertiga ZDI Plus  2019        1200000      14000   \n",
       "915   Maruti Eeco Smiles 7 Seater Standard  2013         204999     100000   \n",
       "3946       Nissan Micra Diesel XL Optional  2013         400000      83000   \n",
       "\n",
       "        fuel seller_type transmission        owner     mileage   engine  \\\n",
       "7412  Petrol  Individual       Manual  First Owner   16.1 kmpl   796 CC   \n",
       "5152  Diesel  Individual    Automatic  Third Owner  12.07 kmpl  2967 CC   \n",
       "5756  Diesel  Individual       Manual  First Owner  25.47 kmpl  1248 CC   \n",
       "915   Petrol  Individual       Manual  Third Owner   15.1 kmpl  1196 CC   \n",
       "3946  Diesel  Individual       Manual  First Owner  23.08 kmpl  1461 CC   \n",
       "\n",
       "      max_power               torque  seats  engine_value_cc  max_power_bph  \\\n",
       "7412     37 bhp        59Nm@ 2500rpm    4.0            796.0           37.0   \n",
       "5152  241.4 bhp  550Nm@ 1750-2750rpm    7.0           2967.0          241.4   \n",
       "5756  88.50 bhp       200Nm@ 1750rpm    7.0           1248.0           88.5   \n",
       "915      73 bhp       101Nm@ 3000rpm    7.0           1196.0           73.0   \n",
       "3946   63.1 bhp       160Nm@ 2000rpm    5.0           1461.0           63.1   \n",
       "\n",
       "      fuel_Diesel  fuel_Petrol  fuel_LPG  fuel_CNG  \n",
       "7412            0            1         0         0  \n",
       "5152            1            0         0         0  \n",
       "5756            1            0         0         0  \n",
       "915             0            1         0         0  \n",
       "3946            1            0         0         0  "
      ]
     },
     "execution_count": 517,
     "metadata": {},
     "output_type": "execute_result"
    }
   ],
   "source": [
    "#making categorical variables for fuel types.\n",
    "\n",
    "for entry in fuel_types:\n",
    "    df[f\"fuel_{entry}\"] = df[\"fuel\"].apply(lambda string : 1 if string == entry else 0)\n",
    "\n",
    "df.sample(5)"
   ]
  },
  {
   "cell_type": "markdown",
   "metadata": {},
   "source": [
    "We will make a column called \"mileage_conversion_factor\". This column contain the conversion factor for each type of fuel. For example, for petrol we already have mileage in kmpl, therefore the conversion factor is 1. For CNG, it will be the density."
   ]
  },
  {
   "cell_type": "code",
   "execution_count": 518,
   "metadata": {},
   "outputs": [],
   "source": [
    "df[\"mileage_coversion_factor\"] = df[\"fuel_Diesel\"] + df[\"fuel_Petrol\"] + density_CNG * df[\"fuel_CNG\"] + density_LPG * df[\"fuel_LPG\"] # multiply by this number to convert"
   ]
  },
  {
   "cell_type": "markdown",
   "metadata": {},
   "source": [
    "Now convert all mileage values to kmpl."
   ]
  },
  {
   "cell_type": "code",
   "execution_count": 519,
   "metadata": {},
   "outputs": [
    {
     "data": {
      "text/html": [
       "<div>\n",
       "<style scoped>\n",
       "    .dataframe tbody tr th:only-of-type {\n",
       "        vertical-align: middle;\n",
       "    }\n",
       "\n",
       "    .dataframe tbody tr th {\n",
       "        vertical-align: top;\n",
       "    }\n",
       "\n",
       "    .dataframe thead th {\n",
       "        text-align: right;\n",
       "    }\n",
       "</style>\n",
       "<table border=\"1\" class=\"dataframe\">\n",
       "  <thead>\n",
       "    <tr style=\"text-align: right;\">\n",
       "      <th></th>\n",
       "      <th>name</th>\n",
       "      <th>year</th>\n",
       "      <th>selling_price</th>\n",
       "      <th>km_driven</th>\n",
       "      <th>fuel</th>\n",
       "      <th>seller_type</th>\n",
       "      <th>transmission</th>\n",
       "      <th>owner</th>\n",
       "      <th>mileage</th>\n",
       "      <th>engine</th>\n",
       "      <th>...</th>\n",
       "      <th>torque</th>\n",
       "      <th>seats</th>\n",
       "      <th>engine_value_cc</th>\n",
       "      <th>max_power_bph</th>\n",
       "      <th>fuel_Diesel</th>\n",
       "      <th>fuel_Petrol</th>\n",
       "      <th>fuel_LPG</th>\n",
       "      <th>fuel_CNG</th>\n",
       "      <th>mileage_coversion_factor</th>\n",
       "      <th>mileage_kmpl</th>\n",
       "    </tr>\n",
       "  </thead>\n",
       "  <tbody>\n",
       "    <tr>\n",
       "      <th>0</th>\n",
       "      <td>Maruti Swift Dzire VDI</td>\n",
       "      <td>2014</td>\n",
       "      <td>450000</td>\n",
       "      <td>145500</td>\n",
       "      <td>Diesel</td>\n",
       "      <td>Individual</td>\n",
       "      <td>Manual</td>\n",
       "      <td>First Owner</td>\n",
       "      <td>23.4 kmpl</td>\n",
       "      <td>1248 CC</td>\n",
       "      <td>...</td>\n",
       "      <td>190Nm@ 2000rpm</td>\n",
       "      <td>5.0</td>\n",
       "      <td>1248.0</td>\n",
       "      <td>74.00</td>\n",
       "      <td>1</td>\n",
       "      <td>0</td>\n",
       "      <td>0</td>\n",
       "      <td>0</td>\n",
       "      <td>1.0000</td>\n",
       "      <td>23.40000</td>\n",
       "    </tr>\n",
       "    <tr>\n",
       "      <th>1</th>\n",
       "      <td>Skoda Rapid 1.5 TDI Ambition</td>\n",
       "      <td>2014</td>\n",
       "      <td>370000</td>\n",
       "      <td>120000</td>\n",
       "      <td>Diesel</td>\n",
       "      <td>Individual</td>\n",
       "      <td>Manual</td>\n",
       "      <td>Second Owner</td>\n",
       "      <td>21.14 kmpl</td>\n",
       "      <td>1498 CC</td>\n",
       "      <td>...</td>\n",
       "      <td>250Nm@ 1500-2500rpm</td>\n",
       "      <td>5.0</td>\n",
       "      <td>1498.0</td>\n",
       "      <td>103.52</td>\n",
       "      <td>1</td>\n",
       "      <td>0</td>\n",
       "      <td>0</td>\n",
       "      <td>0</td>\n",
       "      <td>1.0000</td>\n",
       "      <td>21.14000</td>\n",
       "    </tr>\n",
       "    <tr>\n",
       "      <th>2</th>\n",
       "      <td>Honda City 2017-2020 EXi</td>\n",
       "      <td>2006</td>\n",
       "      <td>158000</td>\n",
       "      <td>140000</td>\n",
       "      <td>Petrol</td>\n",
       "      <td>Individual</td>\n",
       "      <td>Manual</td>\n",
       "      <td>Third Owner</td>\n",
       "      <td>17.7 kmpl</td>\n",
       "      <td>1497 CC</td>\n",
       "      <td>...</td>\n",
       "      <td>12.7@ 2,700(kgm@ rpm)</td>\n",
       "      <td>5.0</td>\n",
       "      <td>1497.0</td>\n",
       "      <td>78.00</td>\n",
       "      <td>0</td>\n",
       "      <td>1</td>\n",
       "      <td>0</td>\n",
       "      <td>0</td>\n",
       "      <td>1.0000</td>\n",
       "      <td>17.70000</td>\n",
       "    </tr>\n",
       "    <tr>\n",
       "      <th>3</th>\n",
       "      <td>Hyundai i20 Sportz Diesel</td>\n",
       "      <td>2010</td>\n",
       "      <td>225000</td>\n",
       "      <td>127000</td>\n",
       "      <td>Diesel</td>\n",
       "      <td>Individual</td>\n",
       "      <td>Manual</td>\n",
       "      <td>First Owner</td>\n",
       "      <td>23.0 kmpl</td>\n",
       "      <td>1396 CC</td>\n",
       "      <td>...</td>\n",
       "      <td>22.4 kgm at 1750-2750rpm</td>\n",
       "      <td>5.0</td>\n",
       "      <td>1396.0</td>\n",
       "      <td>90.00</td>\n",
       "      <td>1</td>\n",
       "      <td>0</td>\n",
       "      <td>0</td>\n",
       "      <td>0</td>\n",
       "      <td>1.0000</td>\n",
       "      <td>23.00000</td>\n",
       "    </tr>\n",
       "    <tr>\n",
       "      <th>4</th>\n",
       "      <td>Maruti Swift VXI BSIII</td>\n",
       "      <td>2007</td>\n",
       "      <td>130000</td>\n",
       "      <td>120000</td>\n",
       "      <td>Petrol</td>\n",
       "      <td>Individual</td>\n",
       "      <td>Manual</td>\n",
       "      <td>First Owner</td>\n",
       "      <td>16.1 kmpl</td>\n",
       "      <td>1298 CC</td>\n",
       "      <td>...</td>\n",
       "      <td>11.5@ 4,500(kgm@ rpm)</td>\n",
       "      <td>5.0</td>\n",
       "      <td>1298.0</td>\n",
       "      <td>88.20</td>\n",
       "      <td>0</td>\n",
       "      <td>1</td>\n",
       "      <td>0</td>\n",
       "      <td>0</td>\n",
       "      <td>1.0000</td>\n",
       "      <td>16.10000</td>\n",
       "    </tr>\n",
       "    <tr>\n",
       "      <th>5</th>\n",
       "      <td>Hyundai Xcent 1.2 VTVT E Plus</td>\n",
       "      <td>2017</td>\n",
       "      <td>440000</td>\n",
       "      <td>45000</td>\n",
       "      <td>Petrol</td>\n",
       "      <td>Individual</td>\n",
       "      <td>Manual</td>\n",
       "      <td>First Owner</td>\n",
       "      <td>20.14 kmpl</td>\n",
       "      <td>1197 CC</td>\n",
       "      <td>...</td>\n",
       "      <td>113.75nm@ 4000rpm</td>\n",
       "      <td>5.0</td>\n",
       "      <td>1197.0</td>\n",
       "      <td>81.86</td>\n",
       "      <td>0</td>\n",
       "      <td>1</td>\n",
       "      <td>0</td>\n",
       "      <td>0</td>\n",
       "      <td>1.0000</td>\n",
       "      <td>20.14000</td>\n",
       "    </tr>\n",
       "    <tr>\n",
       "      <th>6</th>\n",
       "      <td>Maruti Wagon R LXI DUO BSIII</td>\n",
       "      <td>2007</td>\n",
       "      <td>96000</td>\n",
       "      <td>175000</td>\n",
       "      <td>LPG</td>\n",
       "      <td>Individual</td>\n",
       "      <td>Manual</td>\n",
       "      <td>First Owner</td>\n",
       "      <td>17.3 km/kg</td>\n",
       "      <td>1061 CC</td>\n",
       "      <td>...</td>\n",
       "      <td>7.8@ 4,500(kgm@ rpm)</td>\n",
       "      <td>5.0</td>\n",
       "      <td>1061.0</td>\n",
       "      <td>57.50</td>\n",
       "      <td>0</td>\n",
       "      <td>0</td>\n",
       "      <td>1</td>\n",
       "      <td>0</td>\n",
       "      <td>1.8184</td>\n",
       "      <td>31.45832</td>\n",
       "    </tr>\n",
       "    <tr>\n",
       "      <th>7</th>\n",
       "      <td>Maruti 800 DX BSII</td>\n",
       "      <td>2001</td>\n",
       "      <td>45000</td>\n",
       "      <td>5000</td>\n",
       "      <td>Petrol</td>\n",
       "      <td>Individual</td>\n",
       "      <td>Manual</td>\n",
       "      <td>Second Owner</td>\n",
       "      <td>16.1 kmpl</td>\n",
       "      <td>796 CC</td>\n",
       "      <td>...</td>\n",
       "      <td>59Nm@ 2500rpm</td>\n",
       "      <td>4.0</td>\n",
       "      <td>796.0</td>\n",
       "      <td>37.00</td>\n",
       "      <td>0</td>\n",
       "      <td>1</td>\n",
       "      <td>0</td>\n",
       "      <td>0</td>\n",
       "      <td>1.0000</td>\n",
       "      <td>16.10000</td>\n",
       "    </tr>\n",
       "    <tr>\n",
       "      <th>8</th>\n",
       "      <td>Toyota Etios VXD</td>\n",
       "      <td>2011</td>\n",
       "      <td>350000</td>\n",
       "      <td>90000</td>\n",
       "      <td>Diesel</td>\n",
       "      <td>Individual</td>\n",
       "      <td>Manual</td>\n",
       "      <td>First Owner</td>\n",
       "      <td>23.59 kmpl</td>\n",
       "      <td>1364 CC</td>\n",
       "      <td>...</td>\n",
       "      <td>170Nm@ 1800-2400rpm</td>\n",
       "      <td>5.0</td>\n",
       "      <td>1364.0</td>\n",
       "      <td>67.10</td>\n",
       "      <td>1</td>\n",
       "      <td>0</td>\n",
       "      <td>0</td>\n",
       "      <td>0</td>\n",
       "      <td>1.0000</td>\n",
       "      <td>23.59000</td>\n",
       "    </tr>\n",
       "    <tr>\n",
       "      <th>9</th>\n",
       "      <td>Ford Figo Diesel Celebration Edition</td>\n",
       "      <td>2013</td>\n",
       "      <td>200000</td>\n",
       "      <td>169000</td>\n",
       "      <td>Diesel</td>\n",
       "      <td>Individual</td>\n",
       "      <td>Manual</td>\n",
       "      <td>First Owner</td>\n",
       "      <td>20.0 kmpl</td>\n",
       "      <td>1399 CC</td>\n",
       "      <td>...</td>\n",
       "      <td>160Nm@ 2000rpm</td>\n",
       "      <td>5.0</td>\n",
       "      <td>1399.0</td>\n",
       "      <td>68.10</td>\n",
       "      <td>1</td>\n",
       "      <td>0</td>\n",
       "      <td>0</td>\n",
       "      <td>0</td>\n",
       "      <td>1.0000</td>\n",
       "      <td>20.00000</td>\n",
       "    </tr>\n",
       "    <tr>\n",
       "      <th>10</th>\n",
       "      <td>Renault Duster 110PS Diesel RxL</td>\n",
       "      <td>2014</td>\n",
       "      <td>500000</td>\n",
       "      <td>68000</td>\n",
       "      <td>Diesel</td>\n",
       "      <td>Individual</td>\n",
       "      <td>Manual</td>\n",
       "      <td>Second Owner</td>\n",
       "      <td>19.01 kmpl</td>\n",
       "      <td>1461 CC</td>\n",
       "      <td>...</td>\n",
       "      <td>248Nm@ 2250rpm</td>\n",
       "      <td>5.0</td>\n",
       "      <td>1461.0</td>\n",
       "      <td>108.45</td>\n",
       "      <td>1</td>\n",
       "      <td>0</td>\n",
       "      <td>0</td>\n",
       "      <td>0</td>\n",
       "      <td>1.0000</td>\n",
       "      <td>19.01000</td>\n",
       "    </tr>\n",
       "    <tr>\n",
       "      <th>11</th>\n",
       "      <td>Maruti Zen LX</td>\n",
       "      <td>2005</td>\n",
       "      <td>92000</td>\n",
       "      <td>100000</td>\n",
       "      <td>Petrol</td>\n",
       "      <td>Individual</td>\n",
       "      <td>Manual</td>\n",
       "      <td>Second Owner</td>\n",
       "      <td>17.3 kmpl</td>\n",
       "      <td>993 CC</td>\n",
       "      <td>...</td>\n",
       "      <td>78Nm@ 4500rpm</td>\n",
       "      <td>5.0</td>\n",
       "      <td>993.0</td>\n",
       "      <td>60.00</td>\n",
       "      <td>0</td>\n",
       "      <td>1</td>\n",
       "      <td>0</td>\n",
       "      <td>0</td>\n",
       "      <td>1.0000</td>\n",
       "      <td>17.30000</td>\n",
       "    </tr>\n",
       "    <tr>\n",
       "      <th>12</th>\n",
       "      <td>Maruti Swift Dzire VDi</td>\n",
       "      <td>2009</td>\n",
       "      <td>280000</td>\n",
       "      <td>140000</td>\n",
       "      <td>Diesel</td>\n",
       "      <td>Individual</td>\n",
       "      <td>Manual</td>\n",
       "      <td>Second Owner</td>\n",
       "      <td>19.3 kmpl</td>\n",
       "      <td>1248 CC</td>\n",
       "      <td>...</td>\n",
       "      <td>190Nm@ 2000rpm</td>\n",
       "      <td>5.0</td>\n",
       "      <td>1248.0</td>\n",
       "      <td>73.90</td>\n",
       "      <td>1</td>\n",
       "      <td>0</td>\n",
       "      <td>0</td>\n",
       "      <td>0</td>\n",
       "      <td>1.0000</td>\n",
       "      <td>19.30000</td>\n",
       "    </tr>\n",
       "    <tr>\n",
       "      <th>14</th>\n",
       "      <td>Maruti Wagon R LXI Minor</td>\n",
       "      <td>2009</td>\n",
       "      <td>180000</td>\n",
       "      <td>90000</td>\n",
       "      <td>Petrol</td>\n",
       "      <td>Individual</td>\n",
       "      <td>Manual</td>\n",
       "      <td>Second Owner</td>\n",
       "      <td>18.9 kmpl</td>\n",
       "      <td>1061 CC</td>\n",
       "      <td>...</td>\n",
       "      <td>84Nm@ 3500rpm</td>\n",
       "      <td>5.0</td>\n",
       "      <td>1061.0</td>\n",
       "      <td>67.00</td>\n",
       "      <td>0</td>\n",
       "      <td>1</td>\n",
       "      <td>0</td>\n",
       "      <td>0</td>\n",
       "      <td>1.0000</td>\n",
       "      <td>18.90000</td>\n",
       "    </tr>\n",
       "    <tr>\n",
       "      <th>15</th>\n",
       "      <td>Mahindra KUV 100 mFALCON G80 K8 5str</td>\n",
       "      <td>2016</td>\n",
       "      <td>400000</td>\n",
       "      <td>40000</td>\n",
       "      <td>Petrol</td>\n",
       "      <td>Individual</td>\n",
       "      <td>Manual</td>\n",
       "      <td>First Owner</td>\n",
       "      <td>18.15 kmpl</td>\n",
       "      <td>1198 CC</td>\n",
       "      <td>...</td>\n",
       "      <td>115Nm@ 3500-3600rpm</td>\n",
       "      <td>5.0</td>\n",
       "      <td>1198.0</td>\n",
       "      <td>82.00</td>\n",
       "      <td>0</td>\n",
       "      <td>1</td>\n",
       "      <td>0</td>\n",
       "      <td>0</td>\n",
       "      <td>1.0000</td>\n",
       "      <td>18.15000</td>\n",
       "    </tr>\n",
       "  </tbody>\n",
       "</table>\n",
       "<p>15 rows × 21 columns</p>\n",
       "</div>"
      ],
      "text/plain": [
       "                                    name  year  selling_price  km_driven  \\\n",
       "0                 Maruti Swift Dzire VDI  2014         450000     145500   \n",
       "1           Skoda Rapid 1.5 TDI Ambition  2014         370000     120000   \n",
       "2               Honda City 2017-2020 EXi  2006         158000     140000   \n",
       "3              Hyundai i20 Sportz Diesel  2010         225000     127000   \n",
       "4                 Maruti Swift VXI BSIII  2007         130000     120000   \n",
       "5          Hyundai Xcent 1.2 VTVT E Plus  2017         440000      45000   \n",
       "6           Maruti Wagon R LXI DUO BSIII  2007          96000     175000   \n",
       "7                     Maruti 800 DX BSII  2001          45000       5000   \n",
       "8                       Toyota Etios VXD  2011         350000      90000   \n",
       "9   Ford Figo Diesel Celebration Edition  2013         200000     169000   \n",
       "10       Renault Duster 110PS Diesel RxL  2014         500000      68000   \n",
       "11                         Maruti Zen LX  2005          92000     100000   \n",
       "12                Maruti Swift Dzire VDi  2009         280000     140000   \n",
       "14              Maruti Wagon R LXI Minor  2009         180000      90000   \n",
       "15  Mahindra KUV 100 mFALCON G80 K8 5str  2016         400000      40000   \n",
       "\n",
       "      fuel seller_type transmission         owner     mileage   engine  ...  \\\n",
       "0   Diesel  Individual       Manual   First Owner   23.4 kmpl  1248 CC  ...   \n",
       "1   Diesel  Individual       Manual  Second Owner  21.14 kmpl  1498 CC  ...   \n",
       "2   Petrol  Individual       Manual   Third Owner   17.7 kmpl  1497 CC  ...   \n",
       "3   Diesel  Individual       Manual   First Owner   23.0 kmpl  1396 CC  ...   \n",
       "4   Petrol  Individual       Manual   First Owner   16.1 kmpl  1298 CC  ...   \n",
       "5   Petrol  Individual       Manual   First Owner  20.14 kmpl  1197 CC  ...   \n",
       "6      LPG  Individual       Manual   First Owner  17.3 km/kg  1061 CC  ...   \n",
       "7   Petrol  Individual       Manual  Second Owner   16.1 kmpl   796 CC  ...   \n",
       "8   Diesel  Individual       Manual   First Owner  23.59 kmpl  1364 CC  ...   \n",
       "9   Diesel  Individual       Manual   First Owner   20.0 kmpl  1399 CC  ...   \n",
       "10  Diesel  Individual       Manual  Second Owner  19.01 kmpl  1461 CC  ...   \n",
       "11  Petrol  Individual       Manual  Second Owner   17.3 kmpl   993 CC  ...   \n",
       "12  Diesel  Individual       Manual  Second Owner   19.3 kmpl  1248 CC  ...   \n",
       "14  Petrol  Individual       Manual  Second Owner   18.9 kmpl  1061 CC  ...   \n",
       "15  Petrol  Individual       Manual   First Owner  18.15 kmpl  1198 CC  ...   \n",
       "\n",
       "                      torque seats  engine_value_cc  max_power_bph  \\\n",
       "0             190Nm@ 2000rpm   5.0           1248.0          74.00   \n",
       "1        250Nm@ 1500-2500rpm   5.0           1498.0         103.52   \n",
       "2      12.7@ 2,700(kgm@ rpm)   5.0           1497.0          78.00   \n",
       "3   22.4 kgm at 1750-2750rpm   5.0           1396.0          90.00   \n",
       "4      11.5@ 4,500(kgm@ rpm)   5.0           1298.0          88.20   \n",
       "5          113.75nm@ 4000rpm   5.0           1197.0          81.86   \n",
       "6       7.8@ 4,500(kgm@ rpm)   5.0           1061.0          57.50   \n",
       "7              59Nm@ 2500rpm   4.0            796.0          37.00   \n",
       "8        170Nm@ 1800-2400rpm   5.0           1364.0          67.10   \n",
       "9             160Nm@ 2000rpm   5.0           1399.0          68.10   \n",
       "10            248Nm@ 2250rpm   5.0           1461.0         108.45   \n",
       "11             78Nm@ 4500rpm   5.0            993.0          60.00   \n",
       "12            190Nm@ 2000rpm   5.0           1248.0          73.90   \n",
       "14             84Nm@ 3500rpm   5.0           1061.0          67.00   \n",
       "15       115Nm@ 3500-3600rpm   5.0           1198.0          82.00   \n",
       "\n",
       "    fuel_Diesel  fuel_Petrol  fuel_LPG  fuel_CNG  mileage_coversion_factor  \\\n",
       "0             1            0         0         0                    1.0000   \n",
       "1             1            0         0         0                    1.0000   \n",
       "2             0            1         0         0                    1.0000   \n",
       "3             1            0         0         0                    1.0000   \n",
       "4             0            1         0         0                    1.0000   \n",
       "5             0            1         0         0                    1.0000   \n",
       "6             0            0         1         0                    1.8184   \n",
       "7             0            1         0         0                    1.0000   \n",
       "8             1            0         0         0                    1.0000   \n",
       "9             1            0         0         0                    1.0000   \n",
       "10            1            0         0         0                    1.0000   \n",
       "11            0            1         0         0                    1.0000   \n",
       "12            1            0         0         0                    1.0000   \n",
       "14            0            1         0         0                    1.0000   \n",
       "15            0            1         0         0                    1.0000   \n",
       "\n",
       "    mileage_kmpl  \n",
       "0       23.40000  \n",
       "1       21.14000  \n",
       "2       17.70000  \n",
       "3       23.00000  \n",
       "4       16.10000  \n",
       "5       20.14000  \n",
       "6       31.45832  \n",
       "7       16.10000  \n",
       "8       23.59000  \n",
       "9       20.00000  \n",
       "10      19.01000  \n",
       "11      17.30000  \n",
       "12      19.30000  \n",
       "14      18.90000  \n",
       "15      18.15000  \n",
       "\n",
       "[15 rows x 21 columns]"
      ]
     },
     "execution_count": 519,
     "metadata": {},
     "output_type": "execute_result"
    }
   ],
   "source": [
    "df[\"mileage_kmpl\"] = df[\"mileage\"].apply(lambda string: float(string.split(\" \")[0])) * df[\"mileage_coversion_factor\"]\n",
    "df.head(15)"
   ]
  },
  {
   "cell_type": "markdown",
   "metadata": {},
   "source": [
    "Next, we will extract data from the torque values. Unfortunately, the torque values have different types of units. From the first glance, there is Nm (Newton-meter) and kgm (kg-meter) for the torque. Also, there are rpm vales. We would like to know the kind of units we are given."
   ]
  },
  {
   "cell_type": "markdown",
   "metadata": {},
   "source": [
    "The following function takes a string and returns the same string without any numbers."
   ]
  },
  {
   "cell_type": "code",
   "execution_count": 520,
   "metadata": {},
   "outputs": [
    {
     "data": {
      "text/plain": [
       "'*kgover*m'"
      ]
     },
     "execution_count": 520,
     "metadata": {},
     "output_type": "execute_result"
    }
   ],
   "source": [
    "def eat_numbers(text:str ) -> str:\n",
    "    \"\"\"Takes a string and outputs the same string without numbers. Example: \"No 1 DJ\" -> \"No  DJ\", \"50kg\" -> \"kg\" \"\"\"\n",
    "    return ''.join([\"\" if char.isdigit() else char for char in text])\n",
    "\n",
    "assert(eat_numbers(\"No 1 DJ\") == \"No  DJ\")\n",
    "assert(eat_numbers(\"115Nm@ 3500-3600rpm\") == \"Nm@ -rpm\")\n",
    "\n",
    "import re \n",
    "\n",
    "def replace_numbers_with_star(text : str) -> str:\n",
    "    \"\"\"Takes a string replaces a number sequence with *. Example: \"No 10 DJ\" -> \"No * DJ\", \"50kg over 500m\" -> \"*kg over *m\" \"\"\"\n",
    "    new_text =  re.sub(r'\\d+', '*', text)\n",
    "    return new_text.replace('*.*', '*').replace(' ', '').lower()\n",
    "\n",
    "replace_numbers_with_star(\"50kg over 500m\")"
   ]
  },
  {
   "cell_type": "markdown",
   "metadata": {},
   "source": [
    "Let's check what units are there."
   ]
  },
  {
   "cell_type": "code",
   "execution_count": 521,
   "metadata": {},
   "outputs": [
    {
     "data": {
      "text/plain": [
       "array(['*nm@*rpm', '*nm@*-*rpm', '*@*,*(kgm@rpm)', '*kgmat*-*rpm',\n",
       "       '*kgm@*rpm', '*nm@*~*rpm', '*nmat*rpm', '*@*-*rpm', '*nm',\n",
       "       '*kgmat*rpm', '*kgmat*,*rpm', '*@*-*(kgm@rpm)', '*nmat*-*rpm',\n",
       "       '*@*,*-*,*(kgm@rpm)', '*nm(*kgm)@*rpm', '*nm@*-*', '*nm@*+/-*rpm',\n",
       "       '*@*,*+/-*(nm@rpm)', '*@*-*', '*(*)@*', '*nm/*rpm', '*@*(kgm@rpm)',\n",
       "       '*nm@*,*rpm', '*nm@*', '*/*', '*nmat*,*-*,*rpm'], dtype=object)"
      ]
     },
     "execution_count": 521,
     "metadata": {},
     "output_type": "execute_result"
    }
   ],
   "source": [
    "df[\"torque\"].apply(replace_numbers_with_star).unique()"
   ]
  },
  {
   "cell_type": "code",
   "execution_count": 522,
   "metadata": {},
   "outputs": [
    {
     "name": "stdout",
     "output_type": "stream",
     "text": [
      "fuel                 ['Diesel' 'Petrol' 'LPG' 'CNG']\n",
      "seller_type          ['Individual' 'Dealer' 'Trustmark Dealer']\n",
      "transmission         ['Manual' 'Automatic']\n",
      "owner                ['First Owner' 'Second Owner' 'Third Owner' 'Fourth & Above Owner'\n",
      " 'Test Drive Car']\n",
      "seats                [ 5.  4.  7.  8.  6.  9. 10. 14.  2.]\n"
     ]
    }
   ],
   "source": [
    "df = df.dropna()\n",
    "#df.info()\n",
    "columns = list(df.columns)\n",
    "categorical_features = ['fuel', 'seller_type', 'transmission', 'owner', 'seats']\n",
    "\n",
    "for feature in categorical_features:\n",
    "    print(f\"{feature:<20} {df[feature].unique()}\")"
   ]
  },
  {
   "cell_type": "code",
   "execution_count": null,
   "metadata": {},
   "outputs": [],
   "source": []
  },
  {
   "cell_type": "code",
   "execution_count": 523,
   "metadata": {},
   "outputs": [
    {
     "data": {
      "text/html": [
       "<div>\n",
       "<style scoped>\n",
       "    .dataframe tbody tr th:only-of-type {\n",
       "        vertical-align: middle;\n",
       "    }\n",
       "\n",
       "    .dataframe tbody tr th {\n",
       "        vertical-align: top;\n",
       "    }\n",
       "\n",
       "    .dataframe thead th {\n",
       "        text-align: right;\n",
       "    }\n",
       "</style>\n",
       "<table border=\"1\" class=\"dataframe\">\n",
       "  <thead>\n",
       "    <tr style=\"text-align: right;\">\n",
       "      <th></th>\n",
       "      <th>name</th>\n",
       "      <th>year</th>\n",
       "      <th>selling_price</th>\n",
       "      <th>km_driven</th>\n",
       "      <th>fuel</th>\n",
       "      <th>seller_type</th>\n",
       "      <th>transmission</th>\n",
       "      <th>owner</th>\n",
       "      <th>mileage</th>\n",
       "      <th>engine</th>\n",
       "      <th>...</th>\n",
       "      <th>torque</th>\n",
       "      <th>seats</th>\n",
       "      <th>engine_value_cc</th>\n",
       "      <th>max_power_bph</th>\n",
       "      <th>fuel_Diesel</th>\n",
       "      <th>fuel_Petrol</th>\n",
       "      <th>fuel_LPG</th>\n",
       "      <th>fuel_CNG</th>\n",
       "      <th>mileage_coversion_factor</th>\n",
       "      <th>mileage_kmpl</th>\n",
       "    </tr>\n",
       "  </thead>\n",
       "  <tbody>\n",
       "    <tr>\n",
       "      <th>35</th>\n",
       "      <td>Maruti Alto 800 CNG LXI Optional</td>\n",
       "      <td>2019</td>\n",
       "      <td>330000</td>\n",
       "      <td>10000</td>\n",
       "      <td>CNG</td>\n",
       "      <td>Individual</td>\n",
       "      <td>Manual</td>\n",
       "      <td>Second Owner</td>\n",
       "      <td>33.44 km/kg</td>\n",
       "      <td>796 CC</td>\n",
       "      <td>...</td>\n",
       "      <td>60Nm@ 3500rpm</td>\n",
       "      <td>4.0</td>\n",
       "      <td>796.0</td>\n",
       "      <td>40.30</td>\n",
       "      <td>0</td>\n",
       "      <td>0</td>\n",
       "      <td>0</td>\n",
       "      <td>1</td>\n",
       "      <td>0.2</td>\n",
       "      <td>6.688</td>\n",
       "    </tr>\n",
       "    <tr>\n",
       "      <th>203</th>\n",
       "      <td>Maruti Wagon R LXI CNG</td>\n",
       "      <td>2016</td>\n",
       "      <td>360000</td>\n",
       "      <td>50000</td>\n",
       "      <td>CNG</td>\n",
       "      <td>Individual</td>\n",
       "      <td>Manual</td>\n",
       "      <td>First Owner</td>\n",
       "      <td>26.6 km/kg</td>\n",
       "      <td>998 CC</td>\n",
       "      <td>...</td>\n",
       "      <td>77Nm@ 3500rpm</td>\n",
       "      <td>5.0</td>\n",
       "      <td>998.0</td>\n",
       "      <td>58.16</td>\n",
       "      <td>0</td>\n",
       "      <td>0</td>\n",
       "      <td>0</td>\n",
       "      <td>1</td>\n",
       "      <td>0.2</td>\n",
       "      <td>5.320</td>\n",
       "    </tr>\n",
       "  </tbody>\n",
       "</table>\n",
       "<p>2 rows × 21 columns</p>\n",
       "</div>"
      ],
      "text/plain": [
       "                                 name  year  selling_price  km_driven fuel  \\\n",
       "35   Maruti Alto 800 CNG LXI Optional  2019         330000      10000  CNG   \n",
       "203            Maruti Wagon R LXI CNG  2016         360000      50000  CNG   \n",
       "\n",
       "    seller_type transmission         owner      mileage  engine  ...  \\\n",
       "35   Individual       Manual  Second Owner  33.44 km/kg  796 CC  ...   \n",
       "203  Individual       Manual   First Owner   26.6 km/kg  998 CC  ...   \n",
       "\n",
       "            torque seats  engine_value_cc  max_power_bph  fuel_Diesel  \\\n",
       "35   60Nm@ 3500rpm   4.0            796.0          40.30            0   \n",
       "203  77Nm@ 3500rpm   5.0            998.0          58.16            0   \n",
       "\n",
       "     fuel_Petrol  fuel_LPG  fuel_CNG  mileage_coversion_factor  mileage_kmpl  \n",
       "35             0         0         1                       0.2         6.688  \n",
       "203            0         0         1                       0.2         5.320  \n",
       "\n",
       "[2 rows x 21 columns]"
      ]
     },
     "execution_count": 523,
     "metadata": {},
     "output_type": "execute_result"
    }
   ],
   "source": [
    "df[df[\"fuel\"]==\"CNG\"].head(2)"
   ]
  },
  {
   "cell_type": "code",
   "execution_count": 524,
   "metadata": {},
   "outputs": [
    {
     "data": {
      "text/plain": [
       "array(['Diesel', 'Petrol', 'LPG', 'CNG'], dtype=object)"
      ]
     },
     "execution_count": 524,
     "metadata": {},
     "output_type": "execute_result"
    }
   ],
   "source": [
    "df[\"fuel\"].unique()"
   ]
  },
  {
   "cell_type": "code",
   "execution_count": 525,
   "metadata": {},
   "outputs": [],
   "source": [
    "df[\"fuel_Diesel\"] = pd.get_dummies(df[\"fuel\"])[\"Diesel\"]"
   ]
  },
  {
   "cell_type": "code",
   "execution_count": 526,
   "metadata": {},
   "outputs": [
    {
     "data": {
      "text/plain": [
       "Index(['name', 'year', 'selling_price', 'km_driven', 'fuel', 'seller_type',\n",
       "       'transmission', 'owner', 'mileage', 'engine', 'max_power', 'torque',\n",
       "       'seats', 'engine_value_cc', 'max_power_bph', 'fuel_Diesel',\n",
       "       'fuel_Petrol', 'fuel_LPG', 'fuel_CNG', 'mileage_coversion_factor',\n",
       "       'mileage_kmpl', 'seller_type_Individual', 'seller_type_Dealer',\n",
       "       'seller_type_Trustmark Dealer', 'transmission_Manual',\n",
       "       'transmission_Automatic', 'owner_First Owner', 'owner_Second Owner',\n",
       "       'owner_Third Owner', 'owner_Fourth & Above Owner',\n",
       "       'owner_Test Drive Car', 'seats_5.0', 'seats_4.0', 'seats_7.0',\n",
       "       'seats_8.0', 'seats_6.0', 'seats_9.0', 'seats_10.0', 'seats_14.0',\n",
       "       'seats_2.0'],\n",
       "      dtype='object')"
      ]
     },
     "execution_count": 526,
     "metadata": {},
     "output_type": "execute_result"
    }
   ],
   "source": [
    "for feature in categorical_features:\n",
    "    for category in df[feature].unique():\n",
    "        df[f\"{feature}_{category}\"] = pd.get_dummies(df[feature], dtype=int)[category]\n",
    "\n",
    "df.head(15)\n",
    "\n",
    "df.columns"
   ]
  },
  {
   "cell_type": "markdown",
   "metadata": {},
   "source": []
  },
  {
   "cell_type": "code",
   "execution_count": 527,
   "metadata": {},
   "outputs": [
    {
     "data": {
      "text/plain": [
       "array(['CC'], dtype=object)"
      ]
     },
     "execution_count": 527,
     "metadata": {},
     "output_type": "execute_result"
    }
   ],
   "source": [
    "df[\"engine\"].apply(lambda string : string.split(\" \")[1]).unique()"
   ]
  },
  {
   "cell_type": "code",
   "execution_count": 528,
   "metadata": {},
   "outputs": [],
   "source": [
    "df[\"engine_value_cc\"] = df[\"engine\"].apply(lambda string : float(string.split(\" \")[0]))"
   ]
  },
  {
   "cell_type": "code",
   "execution_count": null,
   "metadata": {},
   "outputs": [],
   "source": []
  },
  {
   "cell_type": "code",
   "execution_count": 529,
   "metadata": {},
   "outputs": [
    {
     "data": {
      "text/plain": [
       "array(['bhp'], dtype=object)"
      ]
     },
     "execution_count": 529,
     "metadata": {},
     "output_type": "execute_result"
    }
   ],
   "source": [
    "df[\"max_power\"].apply(lambda string: string.split(\" \")[1]).unique()"
   ]
  },
  {
   "cell_type": "code",
   "execution_count": 530,
   "metadata": {},
   "outputs": [],
   "source": [
    "df[\"max_power_bph\"] = df[\"max_power\"].apply(lambda string: float(string.split(\" \")[0]))"
   ]
  },
  {
   "cell_type": "code",
   "execution_count": 531,
   "metadata": {},
   "outputs": [
    {
     "data": {
      "text/plain": [
       "array(['kmpl', 'km/kg'], dtype=object)"
      ]
     },
     "execution_count": 531,
     "metadata": {},
     "output_type": "execute_result"
    }
   ],
   "source": [
    "df[\"mileage\"].apply(lambda string : string.split(\" \")[1]).unique()"
   ]
  },
  {
   "cell_type": "code",
   "execution_count": null,
   "metadata": {},
   "outputs": [],
   "source": []
  }
 ],
 "metadata": {
  "kernelspec": {
   "display_name": "Erdos",
   "language": "python",
   "name": "python3"
  },
  "language_info": {
   "codemirror_mode": {
    "name": "ipython",
    "version": 3
   },
   "file_extension": ".py",
   "mimetype": "text/x-python",
   "name": "python",
   "nbconvert_exporter": "python",
   "pygments_lexer": "ipython3",
   "version": "3.12.5"
  }
 },
 "nbformat": 4,
 "nbformat_minor": 2
}
